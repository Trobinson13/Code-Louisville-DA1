{
  "nbformat": 4,
  "nbformat_minor": 0,
  "metadata": {
    "colab": {
      "provenance": []
    },
    "kernelspec": {
      "name": "python3",
      "display_name": "Python 3"
    },
    "language_info": {
      "name": "python"
    }
  },
  "cells": [
    {
      "cell_type": "markdown",
      "source": [
        "# Practice with Pandas"
      ],
      "metadata": {
        "id": "J01ylX2CBykU"
      }
    },
    {
      "cell_type": "markdown",
      "source": [
        "Set your imports for NumPy, Pandas, and csv"
      ],
      "metadata": {
        "id": "pJTyOwE3Jvwt"
      }
    },
    {
      "cell_type": "markdown",
      "source": [],
      "metadata": {
        "id": "CzxeTit3ZYnb"
      }
    },
    {
      "cell_type": "code",
      "source": [
        "import numpy as np\n",
        "import pandas as pd\n",
        "import csv"
      ],
      "metadata": {
        "id": "edGDtPPPJsX6"
      },
      "execution_count": 10,
      "outputs": []
    },
    {
      "cell_type": "markdown",
      "source": [
        "Create a simple array with NumPy"
      ],
      "metadata": {
        "id": "FtSWlFYTKzhe"
      }
    },
    {
      "cell_type": "code",
      "source": [
        "simple_array = np.array([0, 3, 1, 5, 7])\n",
        "\n",
        "# Print array and type of array\n",
        "print(simple_array, type(simple_array))\n"
      ],
      "metadata": {
        "colab": {
          "base_uri": "https://localhost:8080/"
        },
        "id": "QVShCYh4K7SU",
        "outputId": "fdb9a3e6-d13a-4e81-cdb0-50b1da831575"
      },
      "execution_count": 14,
      "outputs": [
        {
          "output_type": "stream",
          "name": "stdout",
          "text": [
            "[0 3 1 5 7] <class 'numpy.ndarray'>\n"
          ]
        }
      ]
    },
    {
      "cell_type": "markdown",
      "source": [
        "## Lets use Colabs built in csv data to do some experiments"
      ],
      "metadata": {
        "id": "9wAW_QskQWFF"
      }
    },
    {
      "cell_type": "markdown",
      "source": [
        "Importing CSV Data with CSV"
      ],
      "metadata": {
        "id": "_y3QTUDaRSlL"
      }
    },
    {
      "cell_type": "code",
      "source": [
        "with open(\"/content/sample_data/california_housing_test.csv\") as csv_file:\n",
        "  csv_reader = csv.reader(csv_file, dialect='unix')\n",
        "  for row in csv_reader:\n",
        "    print(row)"
      ],
      "metadata": {
        "id": "EQZAvS5yK7GD"
      },
      "execution_count": null,
      "outputs": []
    },
    {
      "cell_type": "markdown",
      "source": [
        "Importing CSV Data with pandas"
      ],
      "metadata": {
        "id": "9pXDEIJzRYxs"
      }
    },
    {
      "cell_type": "code",
      "source": [
        "housing_csv = pd.read_csv(\"/content/sample_data/california_housing_test.csv\")\n",
        "housing_csv"
      ],
      "metadata": {
        "id": "6ige7XWaPNij"
      },
      "execution_count": null,
      "outputs": []
    },
    {
      "cell_type": "markdown",
      "source": [
        "Now thats a lot of data.  Try modyfiying the code above to return the top 10 results from the csv."
      ],
      "metadata": {
        "id": "apxWdKsBO5Tk"
      }
    },
    {
      "cell_type": "code",
      "source": [
        "# Insert your code below to reutn the top 10 results"
      ],
      "metadata": {
        "id": "Twx-1TxDSxDc"
      },
      "execution_count": null,
      "outputs": []
    },
    {
      "cell_type": "markdown",
      "source": [
        "## Let try creating our own arrays and doing some mutations"
      ],
      "metadata": {
        "id": "EkKd0ql2UU9U"
      }
    },
    {
      "cell_type": "markdown",
      "source": [
        "Set a date range to be created"
      ],
      "metadata": {
        "id": "6XQsK2dtKBWo"
      }
    },
    {
      "cell_type": "code",
      "source": [
        "dates = pd.date_range(\"20230213\", periods=7)"
      ],
      "metadata": {
        "id": "lWmnKbwAB-8O"
      },
      "execution_count": 18,
      "outputs": []
    },
    {
      "cell_type": "code",
      "source": [
        "dates"
      ],
      "metadata": {
        "colab": {
          "base_uri": "https://localhost:8080/"
        },
        "id": "sCottEMyJkj0",
        "outputId": "e8c7c6d0-fb41-4dbb-fbf0-50ae0978680d"
      },
      "execution_count": 4,
      "outputs": [
        {
          "output_type": "execute_result",
          "data": {
            "text/plain": [
              "DatetimeIndex(['2013-01-01', '2013-01-02', '2013-01-03', '2013-01-04',\n",
              "               '2013-01-05', '2013-01-06'],\n",
              "              dtype='datetime64[ns]', freq='D')"
            ]
          },
          "metadata": {},
          "execution_count": 4
        }
      ]
    }
  ]
}